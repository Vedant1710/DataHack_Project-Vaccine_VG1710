{
  "nbformat": 4,
  "nbformat_minor": 0,
  "metadata": {
    "colab": {
      "provenance": [],
      "authorship_tag": "ABX9TyNWy0JMnRr52xQRO7c309d9",
      "include_colab_link": true
    },
    "kernelspec": {
      "name": "python3",
      "display_name": "Python 3"
    },
    "language_info": {
      "name": "python"
    }
  },
  "cells": [
    {
      "cell_type": "markdown",
      "metadata": {
        "id": "view-in-github",
        "colab_type": "text"
      },
      "source": [
        "<a href=\"https://colab.research.google.com/github/Vedant1710/DataHack_Project-Vaccine_VG1710/blob/main/DataHack_Project_Vaccine_VG1710.ipynb\" target=\"_parent\"><img src=\"https://colab.research.google.com/assets/colab-badge.svg\" alt=\"Open In Colab\"/></a>"
      ]
    },
    {
      "cell_type": "code",
      "execution_count": 2,
      "metadata": {
        "colab": {
          "base_uri": "https://localhost:8080/"
        },
        "id": "IZ9GIMorY8uZ",
        "outputId": "4f7d8563-a702-434b-9b92-6118b347deb1"
      },
      "outputs": [
        {
          "output_type": "stream",
          "name": "stdout",
          "text": [
            "ROC AUC for xyz_vaccine: 0.864173999277244\n",
            "ROC AUC for seasonal_vaccine: 0.8570519011081396\n",
            "Mean ROC AUC: 0.8606129501926918\n"
          ]
        }
      ],
      "source": [
        "import pandas as pd\n",
        "import numpy as np\n",
        "from sklearn.model_selection import train_test_split\n",
        "from sklearn.preprocessing import StandardScaler, OneHotEncoder\n",
        "from sklearn.compose import ColumnTransformer\n",
        "from sklearn.pipeline import Pipeline\n",
        "from sklearn.impute import SimpleImputer\n",
        "from sklearn.multioutput import MultiOutputClassifier\n",
        "from sklearn.ensemble import RandomForestClassifier\n",
        "from sklearn.metrics import roc_auc_score\n",
        "\n",
        "\n",
        "df_labels = pd.read_csv('/content/training_set_labels.csv')\n",
        "df_features = pd.read_csv('/content/training_set_features.csv')\n",
        "df_test_features = pd.read_csv('/content/test_set_features.csv')\n",
        "df_submission_format = pd.read_csv('/content/submission_format.csv')\n",
        "\n",
        "\n",
        "df_train = df_features.merge(df_labels, on='respondent_id')\n",
        "\n",
        "\n",
        "X_features = df_train.drop(columns=['respondent_id', 'xyz_vaccine', 'seasonal_vaccine'])\n",
        "y_targets = df_train[['xyz_vaccine', 'seasonal_vaccine']]\n",
        "\n",
        "\n",
        "categorical_cols = X_features.select_dtypes(include=['object']).columns\n",
        "numerical_cols = X_features.select_dtypes(exclude=['object']).columns\n",
        "\n",
        "\n",
        "numerical_pipeline = Pipeline(steps=[\n",
        "    ('imputer', SimpleImputer(strategy='mean')),\n",
        "    ('scaler', StandardScaler())\n",
        "])\n",
        "\n",
        "\n",
        "categorical_pipeline = Pipeline(steps=[\n",
        "    ('imputer', SimpleImputer(strategy='most_frequent')),\n",
        "    ('onehot', OneHotEncoder(handle_unknown='ignore'))\n",
        "])\n",
        "\n",
        "\n",
        "preprocessor = ColumnTransformer(\n",
        "    transformers=[\n",
        "        ('num', numerical_pipeline, numerical_cols),\n",
        "        ('cat', categorical_pipeline, categorical_cols)\n",
        "    ])\n",
        "\n",
        "\n",
        "multi_output_model = MultiOutputClassifier(RandomForestClassifier(n_estimators=100, random_state=42))\n",
        "\n",
        "\n",
        "pipeline = Pipeline(steps=[('preprocessor', preprocessor),\n",
        "                           ('model', multi_output_model)])\n",
        "\n",
        "\n",
        "X_train, X_val, y_train, y_val = train_test_split(X_features, y_targets, test_size=0.2, random_state=42)\n",
        "\n",
        "\n",
        "pipeline.fit(X_train, y_train)\n",
        "\n",
        "\n",
        "y_pred_proba = pipeline.predict_proba(X_val)\n",
        "\n",
        "\n",
        "roc_auc_xyz = roc_auc_score(y_val['xyz_vaccine'], y_pred_proba[0][:, 1])\n",
        "roc_auc_seasonal = roc_auc_score(y_val['seasonal_vaccine'], y_pred_proba[1][:, 1])\n",
        "mean_roc_auc = (roc_auc_xyz + roc_auc_seasonal) / 2\n",
        "\n",
        "print(f'ROC AUC for xyz_vaccine: {roc_auc_xyz}')\n",
        "print(f'ROC AUC for seasonal_vaccine: {roc_auc_seasonal}')\n",
        "print(f'Mean ROC AUC: {mean_roc_auc}')\n",
        "\n",
        "\n",
        "df_test_with_ids = df_test_features.copy()\n",
        "X_test_features = df_test_features.drop(columns=['respondent_id'])\n",
        "\n",
        "test_proba = pipeline.predict_proba(X_test_features)\n",
        "df_submission = pd.DataFrame({\n",
        "    'respondent_id': df_test_with_ids['respondent_id'],\n",
        "    'xyz_vaccine': test_proba[0][:, 1],\n",
        "    'seasonal_vaccine': test_proba[1][:, 1]\n",
        "})\n",
        "\n",
        "df_submission.to_csv('Vedant Gupta_submission.csv', index=False)"
      ]
    }
  ]
}